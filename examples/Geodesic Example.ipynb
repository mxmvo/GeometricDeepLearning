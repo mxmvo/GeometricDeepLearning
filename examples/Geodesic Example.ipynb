{
 "cells": [
  {
   "cell_type": "code",
   "execution_count": 1,
   "metadata": {},
   "outputs": [],
   "source": [
    "import sys\n",
    "sys.path.append(\"..\")\n",
    "\n",
    "%load_ext autoreload\n",
    "%autoreload 2"
   ]
  },
  {
   "cell_type": "markdown",
   "metadata": {},
   "source": [
    "# Computing of Geodesics on a Mesh\n",
    "\n",
    "In this post I will exhibit two way of approximate geodesics between two points. A linear way and a 2nd order approximation. <br/>\n",
    "**Important:** this method is only as good as it's distance function. \n",
    "\n",
    "Both these methods requires a distance function, the distance function will be calculated in two different ways, namely the heat method is used as described in [Geodesics in Heat](https://www.cs.cmu.edu/~kmcrane/Projects/HeatMethod/), and the Fast Marching Method as described in [Computing geodesic paths on manifolds](http://www.pnas.org/cgi/doi/10.1073/pnas.95.15.8431).  Geodesics can then be computed using gradient descent. The method does not require a distance function over the entire manifold, in case we only want to find small geodesics. In the linear case the gradient is constant on each triangle, the path is then constructed by finding interections with the edge. A bit more details below. \n",
    "\n",
    "In the second order approximation, there is a constant transition between the manifold and charts. These charts are 2 dimensional representation of a vertex and its neighbors. In this flat space we find a second order approximation of the distance function, the computed 2 dimensional points are then translated back to the manifold. \n",
    "\n",
    "In the linear case points are only computed on the edges of faces, while in the second order the path also consists of points on the faces. \n",
    "\n",
    "The creation of these charts and the translation between the charts and the manifold are done in the `trimesh` object. This object consists of additional attributes and functions that could be usefull.\n",
    "\n",
    "----\n",
    "\n",
    "Some preliminairy function and packages"
   ]
  },
  {
   "cell_type": "code",
   "execution_count": 2,
   "metadata": {},
   "outputs": [],
   "source": [
    "import vtki\n",
    "import numpy as np\n",
    "\n",
    "from modules.heat_method import heat_method\n",
    "from modules.fast_marching_method import FMM\n",
    "from modules.geometry_functions import discrete_gradient\n",
    "from modules.trimesh import trimesh\n",
    "\n",
    "from modules.gradient_walk.linear_walk import LinearWalk\n",
    "from modules.gradient_walk.quadratic_walk import QuadraticWalk\n",
    "from plyfile import PlyData, PlyElement\n",
    "from vtki import PolyData"
   ]
  },
  {
   "cell_type": "code",
   "execution_count": 3,
   "metadata": {},
   "outputs": [],
   "source": [
    "def read_ply(f_name):\n",
    "    # Read the vertices and triangles from a ply file\n",
    "    data = PlyData.read(f_name)\n",
    "    \n",
    "    data_vert = np.vstack([list(vertex) for vertex in data['vertex'].data])\n",
    "    data_tri = np.vstack(data['face'].data['vertex_indices'])\n",
    "    return data_vert, data_tri\n",
    "\n",
    "color_map = 'prism'\n",
    "color_point = 'black'\n",
    "def vtki_plot(mesh,ind, color, cmap = color_map, arrows_tri = [], paths = [], text = '', inline = False, show_edges = True):\n",
    "    # Plot functions on the mesh, together with arrows\n",
    "    polydata = PolyData(mesh.vertices, np.c_[[[3]]*len(mesh.triangles),mesh.triangles])\n",
    "    if inline:\n",
    "        plotter = vtki.Plotter(notebook = True)\n",
    "    else:\n",
    "        plotter = vtki.BackgroundPlotter()\n",
    "\n",
    "    plotter.add_mesh(polydata, scalars = color, cmap = cmap, show_edges = show_edges)\n",
    "    plotter.add_text(text)\n",
    "    \n",
    "    if len(paths) > 0 :\n",
    "            for pa in paths:\n",
    "                p = np.array(pa['points'])\n",
    "                if len(p) > 0:\n",
    "                    plotter.add_lines(p, width = 10, color = 'white')\n",
    "    \n",
    "    if len(ind)> 0:\n",
    "        plotter.add_points(mesh.vertices[ind], point_size = 20, color = 'black')\n",
    "\n",
    "    if len(arrows_tri) > 1:\n",
    "        cent = mesh.vertices[mesh.triangles].mean(1)\n",
    "        plotter.add_arrows(cent, arrows_tri, mag  = .01, color = 'g')\n",
    "    plotter.view_xy()\n",
    "    plotter.show()    \n",
    "\n"
   ]
  },
  {
   "cell_type": "markdown",
   "metadata": {},
   "source": [
    "Reading in the data"
   ]
  },
  {
   "cell_type": "code",
   "execution_count": 4,
   "metadata": {},
   "outputs": [],
   "source": [
    "torus_vert, torus_tri = read_ply('../test_data/torus_24k.ply')\n",
    "torus = trimesh(torus_vert, torus_tri)"
   ]
  },
  {
   "cell_type": "code",
   "execution_count": null,
   "metadata": {},
   "outputs": [],
   "source": [
    "arm_vert, arm_tri = read_ply('../test_data/armadillo_172k.ply')\n",
    "armadillo = trimesh(arm_vert, arm_tri)"
   ]
  },
  {
   "cell_type": "markdown",
   "metadata": {},
   "source": [
    "# Linear walk.\n",
    "\n",
    "This works using a predefined vector field on the triangles. In the case that the gradient of a vertex is required, the gradients of the adjacend triangles are mapped to the chart around that vertex, then a average is taken of thos vector, the resulting vector is then mapped back to the manifold. \n",
    "\n",
    "Giving a start point we have a gradient and then we calculate the interection with the opposing edge. The next face has a new gradient which is used to calculate the new point. \n",
    "\n",
    "A few edge (no pun inteded) cases. \n",
    "- If the new gradient points towards the previous face we walk along the current edge in the directing of the gradient projected on the edge. Similarly when we find ourselves on the boundary. \n",
    "- If we find an intersection with an edge that is close by an vertex then the next point will be that vertex. Close defined by the `np.allclose()` function.\n",
    "\n",
    "We use as stopping criteria the faces around the origin. "
   ]
  },
  {
   "cell_type": "code",
   "execution_count": null,
   "metadata": {},
   "outputs": [],
   "source": [
    "# Init the heat method\n",
    "heat_torus = heat_method(torus_vert,torus_tri)\n",
    "fmm_torus = FMM(torus)\n",
    "\n",
    "# Just some points\n",
    "left_ind = np.argmin(torus_vert[:,2])\n",
    "right_ind = np.argmax(torus_vert[:,2])"
   ]
  },
  {
   "cell_type": "code",
   "execution_count": null,
   "metadata": {},
   "outputs": [],
   "source": [
    "# Run the heat method\n",
    "d_heat, X_heat = heat_torus.run(left_ind)"
   ]
  },
  {
   "cell_type": "code",
   "execution_count": null,
   "metadata": {},
   "outputs": [],
   "source": [
    "# Run the Fast marching, this method takes longer than the heat method.\n",
    "d_fmm = fmm_torus.run([left_ind])"
   ]
  },
  {
   "cell_type": "code",
   "execution_count": null,
   "metadata": {},
   "outputs": [],
   "source": [
    "Lwalk = LinearWalk(torus)\n",
    "path_heat = Lwalk.run(left_ind, right_ind, d_heat , max(d_heat))\n",
    "path_fmm = Lwalk.run(left_ind, right_ind, d_fmm , max(d_fmm))"
   ]
  },
  {
   "cell_type": "code",
   "execution_count": null,
   "metadata": {},
   "outputs": [],
   "source": [
    "# Uncomment this to plot it in a seperate window\n",
    "#vtki_plot(torus, [left_ind, right_ind], d_fmm, paths = [path_fmm])"
   ]
  },
  {
   "cell_type": "code",
   "execution_count": null,
   "metadata": {},
   "outputs": [],
   "source": [
    "plotter = vtki.Plotter(shape=(2, 2))\n",
    "\n",
    "polydata = PolyData(torus_vert, np.c_[[[3]]*len(torus_tri),torus_tri])\n",
    "color_map = 'prism'\n",
    "\n",
    "plotter.subplot(0,0)\n",
    "plotter.add_text('Fast Marching Method', position=None, font_size=30)\n",
    "plotter.add_mesh(polydata, scalars = d_fmm, cmap = color_map)\n",
    "plotter.add_lines(np.array(path_fmm['points']), width = 5, color = 'white')\n",
    "plotter.view_vector([0,1,0], viewup = [0,0,-1])\n",
    "\n",
    "\n",
    "plotter.subplot(0, 1)\n",
    "plotter.add_text('Heat Method', font_size=30)\n",
    "plotter.add_mesh(polydata, scalars = d_heat, cmap = color_map)\n",
    "plotter.add_lines(np.array(path_heat['points']), width = 5, color = 'white')\n",
    "plotter.view_vector([0,1,0], viewup = [0,0,-1])\n",
    "\n",
    "plotter.subplot(1,0)\n",
    "plotter.add_text('Fast Marching Method', position=None, font_size=30)\n",
    "plotter.add_mesh(polydata, scalars = d_fmm, cmap = color_map)\n",
    "plotter.add_lines(np.array(path_fmm['points']), width = 5, color = 'white')\n",
    "plotter.view_vector([0,.5,1], viewup = [0,1,-.5])\n",
    "\n",
    "\n",
    "plotter.subplot(1, 1)\n",
    "plotter.add_text('Heat Method', font_size=30)\n",
    "plotter.add_mesh(polydata, scalars = d_heat, cmap = color_map)\n",
    "plotter.add_lines(np.array(path_heat['points']), width = 5, color = 'white')\n",
    "plotter.view_vector([0,.5,1], viewup = [0,1,-.5])\n",
    "\n",
    "\n",
    "\n",
    "plotter.show()"
   ]
  },
  {
   "cell_type": "markdown",
   "metadata": {},
   "source": [
    "First of all the paths do not look like they are connected, but that is the plotting program that has an issue. Plotting it in a seperate window makes it better visible. Although the distance function of the heat and fast marching method look similar, they produce different paths. The Fast Marching seems to give a more accurate account, there seems to be a symmetry in the $z$-plance. The heat method is missing this. Granted we are querring a point close to the cut locus. From here it has trouble deciding whether to go left of right of the hole. \n",
    "\n",
    "\n",
    "# Quadratic walk\n",
    "\n",
    "For a second order walk, which will look smoother, but will be slower to compute. \n",
    "\n",
    "Given a point on the manifold on a face, one of the three vertices of that face will serve as the origin of that chart. Which point that is is based on a barycentric coordinates. In this chart, the algorithm uses a second order approximation together with Heun iteration method to calculate next points on the path. Checks are made to verify to see when other chart would be better. This method is described in [Computing geodesic paths on manifolds](http://www.pnas.org/cgi/doi/10.1073/pnas.95.15.8431) section 5. \n",
    "\n",
    "A potential downside to this method is that the approximation of the distacne function on a chart has a local minimum, meaning that the found path will not converge to the actual minimum. This approximation might falter when the distance function is not a good estimation of the true distance or when the number of neighbors is too few."
   ]
  },
  {
   "cell_type": "code",
   "execution_count": null,
   "metadata": {},
   "outputs": [],
   "source": [
    "heat_func = {i: d_heat[i] for i in range(len(d_heat))}\n",
    "fmm_func = {i: d_fmm[i] for i in range(len(d_fmm))}"
   ]
  },
  {
   "cell_type": "code",
   "execution_count": null,
   "metadata": {},
   "outputs": [],
   "source": [
    "QWalk = QuadraticWalk(torus)"
   ]
  },
  {
   "cell_type": "code",
   "execution_count": null,
   "metadata": {},
   "outputs": [],
   "source": [
    "%%time\n",
    "qpath_heat = QWalk.run(left_ind,right_ind, heat_func, max(d_heat), step_size = 0.1)\n",
    "qpath_fmm = QWalk.run(left_ind, right_ind, fmm_func, max(d_fmm), step_size = .1)"
   ]
  },
  {
   "cell_type": "code",
   "execution_count": null,
   "metadata": {},
   "outputs": [],
   "source": [
    "#vtki_plot(torus, [left_ind,right_ind], d, paths = [qpath], text = 'both')"
   ]
  },
  {
   "cell_type": "code",
   "execution_count": null,
   "metadata": {},
   "outputs": [],
   "source": [
    "plotter = vtki.Plotter(shape=(2, 2))\n",
    "\n",
    "polydata = PolyData(torus_vert, np.c_[[[3]]*len(torus_tri),torus_tri])\n",
    "color_map = 'prism'\n",
    "\n",
    "plotter.subplot(0,0)\n",
    "plotter.add_text('Fast Marching Method', position=None, font_size=30)\n",
    "plotter.add_mesh(polydata, scalars = d_fmm, cmap = color_map)\n",
    "plotter.add_lines(np.array(qpath_fmm['points']), width = 5, color = 'white')\n",
    "plotter.add_lines(np.array(path_fmm['points']), width = 5, color = 'black')\n",
    "plotter.view_vector([0,1,0], viewup = [0,0,-1])\n",
    "\n",
    "\n",
    "plotter.subplot(0, 1)\n",
    "plotter.add_text('Heat Method', font_size=30)\n",
    "plotter.add_mesh(polydata, scalars = d_heat, cmap = color_map)\n",
    "plotter.add_lines(np.array(qpath_heat['points']), width = 5, color = 'white')\n",
    "plotter.add_lines(np.array(path_heat['points']), width = 5, color = 'black')\n",
    "plotter.view_vector([0,1,0], viewup = [0,0,-1])\n",
    "\n",
    "plotter.subplot(1,0)\n",
    "plotter.add_text('Fast Marching Method', position=None, font_size=30)\n",
    "plotter.add_mesh(polydata, scalars = d_fmm, cmap = color_map)\n",
    "plotter.add_lines(np.array(qpath_fmm['points']), width = 5, color = 'white')\n",
    "plotter.view_vector([0,.5,1], viewup = [0,1,-.5])\n",
    "\n",
    "\n",
    "plotter.subplot(1, 1)\n",
    "plotter.add_text('Heat Method', font_size=30)\n",
    "plotter.add_mesh(polydata, scalars = d_heat, cmap = color_map)\n",
    "plotter.add_lines(np.array(qpath_heat['points']), width = 5, color = 'white')\n",
    "plotter.view_vector([0,.5,1], viewup = [0,1,-.5])\n",
    "\n",
    "\n",
    "\n",
    "plotter.show()"
   ]
  },
  {
   "cell_type": "markdown",
   "metadata": {},
   "source": [
    "The paths for the second approximation look kind of similar. The black lines are the linear approximations and the white are the quadratic.\n",
    "\n",
    "In the FMM case the line passes the hole via the other side, but seems to be a symmetry. \n",
    "\n",
    "The Heat case the path seems to escape the decision boundary a bit quicker, than the linear case, but not as quick as in the fmm case. "
   ]
  },
  {
   "cell_type": "markdown",
   "metadata": {},
   "source": [
    "# Armadillo\n",
    "\n",
    "Another example, the armadillo has somewhat more vertices. This example comes from [The Stanford 3D Scanning Repository](https://graphics.stanford.edu/data/3Dscanrep/). The distance function used here is calculated using the heat method as the fast marching method will take too long. "
   ]
  },
  {
   "cell_type": "code",
   "execution_count": null,
   "metadata": {},
   "outputs": [],
   "source": [
    "arm_heat = heat_method(arm_vert, arm_tri)"
   ]
  },
  {
   "cell_type": "code",
   "execution_count": null,
   "metadata": {},
   "outputs": [],
   "source": [
    "origin = np.argmax(arm_vert[:,2])\n",
    "dest = 2463 # some random vertex"
   ]
  },
  {
   "cell_type": "code",
   "execution_count": null,
   "metadata": {},
   "outputs": [],
   "source": [
    "d, X = arm_heat.run(origin)"
   ]
  },
  {
   "cell_type": "code",
   "execution_count": null,
   "metadata": {},
   "outputs": [],
   "source": [
    "Lwalk = LinearWalk(armadillo)\n",
    "Qwalk = QuadraticWalk(armadillo)"
   ]
  },
  {
   "cell_type": "code",
   "execution_count": null,
   "metadata": {},
   "outputs": [],
   "source": [
    "path = Lwalk.run(origin, dest, d , max(d))"
   ]
  },
  {
   "cell_type": "code",
   "execution_count": null,
   "metadata": {},
   "outputs": [],
   "source": [
    "d_func = {i:d[i] for i in range(len(d))}\n",
    "qpath = Qwalk.run(origin,dest, d_func , max(d), step_size = 0.01)"
   ]
  },
  {
   "cell_type": "code",
   "execution_count": null,
   "metadata": {},
   "outputs": [],
   "source": [
    "#vtki_plot(armadillo,[origin, dest], d, paths = [path, qpath], show_edges = False)"
   ]
  },
  {
   "cell_type": "code",
   "execution_count": null,
   "metadata": {},
   "outputs": [],
   "source": [
    "plotter = vtki.Plotter(shape=(1, 2))\n",
    "\n",
    "polydata = PolyData(arm_vert, np.c_[[[3]]*len(arm_tri),arm_tri])\n",
    "color_map = 'prism'\n",
    "\n",
    "plotter.subplot(0,0)\n",
    "plotter.add_text('Heat Linear', position=None, font_size=30)\n",
    "plotter.add_mesh(polydata, scalars = d, cmap = color_map)\n",
    "plotter.add_lines(np.array(path['points']), width = 5, color = 'white')\n",
    "plotter.view_vector([.5,0,1], viewup = [0,1,0])\n",
    "\n",
    "\n",
    "plotter.subplot(0, 1)\n",
    "plotter.add_text('Heat Quadratic', font_size=30)\n",
    "plotter.add_mesh(polydata, scalars = d, cmap = color_map)\n",
    "plotter.add_lines(np.array(qpath['points']), width = 5, color = 'white')\n",
    "plotter.view_vector([.05,0,.1], viewup = [0,1,0])\n",
    "\n",
    "plotter.show()"
   ]
  },
  {
   "cell_type": "markdown",
   "metadata": {},
   "source": [
    "Again in the big picture you do not see that much of a difference, once you zoom in the differences become apparent. "
   ]
  }
 ],
 "metadata": {
  "kernelspec": {
   "display_name": "thesis",
   "language": "python",
   "name": "thesis"
  },
  "language_info": {
   "codemirror_mode": {
    "name": "ipython",
    "version": 3
   },
   "file_extension": ".py",
   "mimetype": "text/x-python",
   "name": "python",
   "nbconvert_exporter": "python",
   "pygments_lexer": "ipython3",
   "version": "3.7.2"
  }
 },
 "nbformat": 4,
 "nbformat_minor": 2
}
