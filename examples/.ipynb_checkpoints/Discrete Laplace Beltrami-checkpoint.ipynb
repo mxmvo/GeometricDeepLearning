{
 "cells": [
  {
   "cell_type": "code",
   "execution_count": 1,
   "metadata": {},
   "outputs": [],
   "source": [
    "import sys\n",
    "sys.path.append('..')\n",
    "\n",
    "%load_ext autoreload\n",
    "%autoreload 2"
   ]
  },
  {
   "cell_type": "code",
   "execution_count": 2,
   "metadata": {},
   "outputs": [],
   "source": [
    "import numpy as np\n",
    "import vtki\n",
    "\n",
    "import scipy.sparse.linalg as splinalg\n",
    "from modules import ddg\n",
    "from modules.trimesh import trimesh\n",
    "from plyfile import PlyData, PlyElement\n",
    "from vtki import PolyData\n",
    "\n",
    "from scipy import sparse\n",
    "\n",
    "def read_ply(f_name):\n",
    "    # Read the vertices and triangles from a ply file\n",
    "    data = PlyData.read(f_name)\n",
    "    \n",
    "    data_vert = np.vstack([list(vertex) for vertex in data['vertex'].data])\n",
    "    data_tri = np.vstack(data['face'].data['vertex_indices'])\n",
    "    return trimesh(data_vert, data_tri)\n",
    "\n",
    "f_bunny = '../test_data/bunny_36k.ply'\n",
    "bunny = read_ply(f_bunny)"
   ]
  },
  {
   "cell_type": "markdown",
   "metadata": {},
   "source": [
    "# Discrete Laplace Beltrami\n",
    "\n",
    "The discrete laplace beltrami operator is defined as $A^{-1}L$ where:\n",
    "\\begin{align*}\n",
    "  L_{ij} = \\begin{cases}\n",
    "    (\\cot(\\alpha_{ij}) + \\cot(\\beta_{ij}))/2 & ij \\in int(E) \\\\\n",
    "    \\cot(\\alpha_{ij})/2 & ij \\in \\partial(E) \\\\\n",
    "    -\\sum_{k\\neq i} L_{ik} & i =j \\\\\n",
    "    0 & else\n",
    "  \\end{cases}\n",
    "\\end{align*}\n",
    "And $A$ is a weight matrix. Defined as the vertext ares, see [DIscrete DIfferential Geometry - An Applied Introduction](https://www.cs.cmu.edu/~kmcrane/Projects/DDG/) for more information. \n",
    "\n",
    "In the smooth setting the spectrum in infinite. In the discrete case the operator can be described by a finite matrix, thus we only have a finite spectrum. Given a smooth compact manifold without boundary then the Laplace Beltrami operator is semi negative definite\n",
    "\n",
    "\\begin{align*}\n",
    "\\int \\Delta f \\cdot f  &= \\langle  \\Delta f, f\\rangle \\\\\n",
    "& =  -\\langle \\nabla f ,\\nabla f \\rangle \\\\\n",
    "& = - \\int \\| \\nabla f \\|^2 \\leq 0\n",
    "\\end{align*}\n",
    "If further $f$ is assumed to be in the kernel we get that $\\int \\| \\nabla f \\| ^2 = 0$, which is only the case for constant functions. \n",
    "\n",
    "Note the matrix is very sparse as the values on row $i$ only depends on the neighbors of that point. Computationally is will be very efficient to use sparse matrices. "
   ]
  },
  {
   "cell_type": "code",
   "execution_count": null,
   "metadata": {},
   "outputs": [],
   "source": [
    "# Create the cotan-matrix together with the weight matrix. The area calculated is the dual cell area. \n",
    "L, A = ddg.discrete_laplacian(bunny)"
   ]
  },
  {
   "cell_type": "markdown",
   "metadata": {},
   "source": [
    "# Solving using scipy\n",
    "\n",
    "The goal is to find eigenfunction and values, $\\Delta f = \\lambda f$. Say we want the eigenfunction with the 'lowest frequency' then we need the $K$ eigenfunction belonging to the $K$ smallest (in absolute value) eigenvalues . \n",
    "\n",
    "The Laplace Beltrami operator can be given as $\\Delta = A^{-1}L$, thus the equation becomes $A^{-1}L f = \\lambda f \\Rightarrow Lf = \\lambda Af$. This last equation is a generalised eigenvalue problem, and there are special solvers for this.\n",
    "\n",
    "The `sparse.linalg.eigsh` is the function that meets our requirements. Note that $A$ and $L$ are both symmetric matrices. We have to give the following keyword argument `which ='SM'` to calculate the smallest (in magnitude) eigenvalues and corresponding eigenfunctions, the vector are sorted in the algebraic ordering."
   ]
  },
  {
   "cell_type": "code",
   "execution_count": null,
   "metadata": {},
   "outputs": [],
   "source": [
    "%%time\n",
    "val, vec = splinalg.eigsh(L, M = A, k =5,  which = 'SM')"
   ]
  },
  {
   "cell_type": "markdown",
   "metadata": {},
   "source": [
    "As you can see it takes quite a while to calculate the smallest eigenvalues/functions. The underlying ARPACK package can more efficiently calculate the largest eigenvalue problem.\n",
    "\n",
    "For this we can rewrite our equation $L f = \\lambda Af \\Rightarrow \\frac{1}{\\lambda} L f = A f$. (**note** solving this eigen problem will transform the potential $0$ eigenvalue to a huge number.\n",
    "\n",
    "Now transforming it like this, we have to use the keyword `mode = 'buckling'` because the matric $L$ is not necessarily positive (semi-)definite, this also requires a `sigma` argument. This sigma will transform the eigenvalues $\\lambda' = \\lambda / (\\lambda - \\sigma)$, since $\\lambda \\leq 0$ then if $\\sigma >0$ the ordering of the eigenvalues will reverse. The `which` argument applies to this transformed lambda. \n",
    "\n",
    "In short, initially $0\\geq \\lambda_1 \\geq \\lambda_2\\geq ....$ then with $1/\\lambda$ it becomes $1/\\lambda_1 \\leq 1/\\lambda_2 \\leq ... \\leq 0$, finally the sigma transformation results $\\lambda'_1 \\geq \\lambda'_2 \\geq ...\\geq 0$"
   ]
  },
  {
   "cell_type": "code",
   "execution_count": null,
   "metadata": {},
   "outputs": [],
   "source": [
    "%%time\n",
    "val1, vec1 = sparse.linalg.eigsh(A, M=L,k =5, which = 'LM', mode = 'buckling', sigma = 100)"
   ]
  },
  {
   "cell_type": "markdown",
   "metadata": {},
   "source": [
    "Initially with `which = 'SM'` the eigenvalues are sorted from smallest magnitude to largest. Now they are sorted smallest to largest. Thus we need to transform them back. If there is an original eigenvalue equal to $0$. It is now a big number in absolute value, i.e. positive or negative. Thus for sorting we have to take this into account. "
   ]
  },
  {
   "cell_type": "code",
   "execution_count": null,
   "metadata": {},
   "outputs": [],
   "source": [
    "sort = np.argsort(np.abs(val1))[::] # reverse the sort to make is eventually smallest to biggest\n",
    "final_val, final_vec = 1/val1[sort], vec1[:,sort]"
   ]
  },
  {
   "cell_type": "code",
   "execution_count": null,
   "metadata": {},
   "outputs": [],
   "source": [
    "# See the equivalence of the methods\n",
    "# Note how we make sure the signs are the same\n",
    "# this is necessary since the solution Lf = af, implies the solution L(-f) = a(-f)\n",
    "np.allclose(final_vec, np.sign(final_vec)*np.abs(vec))"
   ]
  },
  {
   "cell_type": "code",
   "execution_count": null,
   "metadata": {
    "scrolled": false
   },
   "outputs": [],
   "source": [
    "plotter = vtki.Plotter(shape=(2, 2))\n",
    "plotter.view_vector([0,0,1], viewup = [0,1,0])\n",
    "\n",
    "color_map = 'jet'\n",
    "\n",
    "\n",
    "plotter.subplot(0,0)\n",
    "polydata = PolyData(bunny.vertices, np.c_[[[3]]*len(bunny.triangles),bunny.triangles])\n",
    "plotter.add_text('Eig val: {:.2f}'.format(final_val[4]), position=None, font_size=20)\n",
    "plotter.add_mesh(polydata, scalars = final_vec[:,4], cmap = color_map)\n",
    "plotter.view_vector([0,0,1], viewup = [0,1,0])\n",
    "\n",
    "\n",
    "plotter.subplot(0, 1)\n",
    "polydata = PolyData(bunny.vertices, np.c_[[[3]]*len(bunny.triangles),bunny.triangles])\n",
    "plotter.add_text('Eig val: {:.2f}'.format(final_val[3]), position=None, font_size=20)\n",
    "plotter.add_mesh(polydata, scalars = final_vec[:,3], cmap = color_map)\n",
    "plotter.view_vector([0,0,1], viewup = [0,1,0])\n",
    "                 \n",
    "plotter.subplot(1,0)\n",
    "polydata = PolyData(bunny.vertices, np.c_[[[3]]*len(bunny.triangles),bunny.triangles])\n",
    "plotter.add_text('Eig val: {:.2f}'.format(final_val[2]), position=None, font_size=20)\n",
    "plotter.add_mesh(polydata, scalars = final_vec[:,2], cmap = color_map)\n",
    "plotter.view_vector([0,0,1], viewup = [0,1,0])\n",
    "\n",
    "\n",
    "plotter.subplot(1, 1)\n",
    "polydata = PolyData(bunny.vertices, np.c_[[[3]]*len(bunny.triangles),bunny.triangles])\n",
    "plotter.add_text('Eig val: {:.2f}'.format(final_val[1]), position=None, font_size=20)\n",
    "plotter.add_mesh(polydata, scalars = final_vec[:,1], cmap = color_map)\n",
    "plotter.view_vector([0,0,1], viewup = [0,1,0])\n",
    "\n",
    "\n",
    "\n",
    "plotter.show()"
   ]
  },
  {
   "cell_type": "markdown",
   "metadata": {},
   "source": [
    "Although this looks cool, we will look at the sphere to be able to compare the discrete version with known results"
   ]
  },
  {
   "cell_type": "markdown",
   "metadata": {},
   "source": [
    "# Examples\n",
    "\n",
    "To show how the eigenfunction look like we will regards the sphere, since the eigenfunctions are known for this manifold. These are called the [spherical harmonics](https://en.wikipedia.org/wiki/Spherical_harmonics).\n",
    "\n",
    "## The exact case\n",
    "\n",
    "To work with the sphere we need the sperical coordinates \n",
    "\\begin{align*}\n",
    "(x,y,z) = (\\sin(\\theta)\\cos(\\phi), \\sin(\\theta)\\sin(\\phi), \\cos(\\theta))\n",
    "\\end{align*}\n",
    "With $\\theta \\in [0,\\pi]$ and $\\phi \\in [-\\pi, \\pi]$, we assume $r=1$.\n",
    "\n",
    "\n",
    "Then the eigenfunction can be written down as\n",
    "\\begin{align*}\n",
    "\\cos (m \\phi) P_{l}^{m}(\\cos \\theta) \\text{ and }\\sin (m \\phi) P_{l}^{m}(\\cos \\theta)\n",
    "\\end{align*}\n",
    "\n",
    "With $l \\in \\{0,1,2,...\\}$ and $m\\in \\{0,1,...,l\\}$ with eigenvalue $\\lambda = l(l+1)$. Below I will only regard the first, since the second is simply a rotation in the $z$ axis.\n",
    "The function $P_l^m$ are the assiociated legendre polynomials.\n",
    "$$\n",
    "P_{l}^{m}(x) = \\left(1-x^{2}\\right)^{m / 2} \\frac{d^{m}}{d x^{m}} P_{l}(x)\n",
    "$$\n",
    "Where $P_n$ are the legendre polynomials,\n",
    "\\begin{align*}\n",
    "P_0 = 1, P_1 = x, P_2 = \\frac{1}{2}(3x^2 - 1)\n",
    "\\end{align*}\n",
    "Higher order polynomial can be generated recursively $(n+1) P_{n+1}(x)=(2 n+1) x P_{n}(x)-n P_{n-1}(x)$\n",
    "\n",
    "To not have to calculate the derivatives by hand we use the autograd from pytorch. "
   ]
  },
  {
   "cell_type": "code",
   "execution_count": null,
   "metadata": {},
   "outputs": [],
   "source": [
    "import torch\n",
    "from torch.autograd import grad\n",
    "\n",
    "def legrandre_polynomial(x, l):\n",
    "    if l == 0:\n",
    "        return 1\n",
    "    elif l == 1:\n",
    "        return x\n",
    "    else:\n",
    "        return 1/l*( (2*l-1)*x*legrandre_polynomial(x, l-1) - (l-1)*legrandre_polynomial(x,l-2))\n",
    "\n",
    "    \n",
    "def nth_derivative(f, wrt, n):\n",
    "    if n == 0:\n",
    "        return f\n",
    "    else:\n",
    "        f = f.sum()\n",
    "    for _ in range(n):\n",
    "\n",
    "        grads = grad(f, wrt, create_graph=True)[0]\n",
    "\n",
    "        f = grads.sum()\n",
    "    return grads\n",
    "\n",
    "def Pml(x,m,l):\n",
    "    x_torch = torch.Tensor(x)\n",
    "    x_torch.requires_grad_()\n",
    "\n",
    "    P_l = legrandre_polynomial(x_torch, l)\n",
    "\n",
    "    dp_l = nth_derivative(P_l,x_torch,m)\n",
    "\n",
    "    return ( ((1-x_torch**2)**(m/2)) *dp_l).detach().numpy()\n",
    "\n",
    "def harmonic(theta, phi, m, l):\n",
    "    cos_theta = np.cos(theta)\n",
    "    P = Pml(cos_theta, m, l)\n",
    "    return np.cos(m*phi)*P"
   ]
  },
  {
   "cell_type": "code",
   "execution_count": null,
   "metadata": {},
   "outputs": [],
   "source": [
    "sphere = read_ply('../test_data/sphere_uv_40k_new.ply')"
   ]
  },
  {
   "cell_type": "code",
   "execution_count": null,
   "metadata": {},
   "outputs": [],
   "source": [
    "color_map = 'jet'\n",
    "\n",
    "theta = np.arccos(sphere.vertices[:,2])\n",
    "phi = np.arctan2(sphere.vertices[:,1], sphere.vertices[:,0])\n",
    "L = 7\n",
    "plotter = vtki.Plotter(shape = (L,L))\n",
    "for l in range(L):\n",
    "    for m in range(l+1):\n",
    "        eig = harmonic(theta,phi, m = m, l= l)\n",
    "        plotter.subplot(l,m)\n",
    "        polydata = PolyData(sphere.vertices, np.c_[[[3]]*len(sphere.triangles),sphere.triangles])\n",
    "        plotter.add_text('l: {},m: {}, eig_val : {}'.format(l,m, l*(l+1)), font_size=10)\n",
    "        plotter.add_mesh(polydata, scalars = eig, cmap = color_map)\n",
    "\n",
    "\n",
    "plotter.show()"
   ]
  },
  {
   "cell_type": "markdown",
   "metadata": {},
   "source": [
    "## Numerical solutions"
   ]
  },
  {
   "cell_type": "code",
   "execution_count": null,
   "metadata": {},
   "outputs": [],
   "source": [
    "L, A = ddg.discrete_laplacian(sphere)\n",
    "val, vec = sparse.linalg.eigsh(A, M=-L,k =50, which = 'LM', mode = 'buckling', sigma = -100)\n",
    "sort = np.argsort(np.abs(val))[::-1] # reverse the sort to make is eventually smallest to biggest\n",
    "val, vec = 1/val[sort], vec[:,sort]"
   ]
  },
  {
   "cell_type": "code",
   "execution_count": null,
   "metadata": {},
   "outputs": [],
   "source": [
    "color_map = 'jet'\n",
    "\n",
    "L = 7\n",
    "plotter = vtki.Plotter(shape = (L,L))\n",
    "for l in range(L):\n",
    "    eig = vec[:,l**2]\n",
    "    plotter.subplot(l,l)\n",
    "    polydata = PolyData(sphere.vertices, np.c_[[[3]]*len(sphere.triangles),sphere.triangles])\n",
    "    plotter.add_text('l: {},m: {},val : {:.2f}'.format(l,0, val[l**2]), font_size=10)\n",
    "    plotter.add_mesh(polydata, scalars = eig, cmap = color_map)\n",
    "\n",
    "    for m in range(1,l+1):\n",
    "        ind = m+(l)**2\n",
    "        eig = vec[:,ind]\n",
    "        plotter.subplot(l,l-m)\n",
    "        polydata = PolyData(sphere.vertices, np.c_[[[3]]*len(sphere.triangles),sphere.triangles])\n",
    "        plotter.add_text('l: {},m: {},val : {:.2f}'.format(l,m, val[ind]), font_size=10)\n",
    "        plotter.add_mesh(polydata, scalars = eig, cmap = color_map)\n",
    "        \n",
    "        ind = m+(l)**2+l\n",
    "        eig = vec[:,ind]\n",
    "        plotter.subplot(l-m,l)\n",
    "        polydata = PolyData(sphere.vertices, np.c_[[[3]]*len(sphere.triangles),sphere.triangles])\n",
    "        plotter.add_text('l: {},m: {},val : {:.2f}'.format(l,m, val[ind]), font_size=10)\n",
    "        plotter.add_mesh(polydata, scalars = eig, cmap = color_map)\n",
    "\n",
    "\n",
    "\n",
    "plotter.show()"
   ]
  },
  {
   "cell_type": "markdown",
   "metadata": {},
   "source": [
    "As you can see the eigen functions look similar, note that we now also have the rotated eigen functions. The eigenvalues deviate from the actual eigenvalues.\n",
    "\n"
   ]
  },
  {
   "cell_type": "markdown",
   "metadata": {},
   "source": [
    "## Different triangulations"
   ]
  },
  {
   "cell_type": "code",
   "execution_count": null,
   "metadata": {},
   "outputs": [],
   "source": [
    "iso_sphere = read_ply('../test_data/sphere_iso_40k.ply')"
   ]
  },
  {
   "cell_type": "code",
   "execution_count": null,
   "metadata": {},
   "outputs": [],
   "source": [
    "L, A = ddg.discrete_laplacian(iso_sphere)\n",
    "val, vec = sparse.linalg.eigsh(A, M=-L,k =50, which = 'LM', mode = 'buckling', sigma = -100)\n",
    "sort = np.argsort(np.abs(val))[::-1] # reverse the sort to make is eventually smallest to biggest\n",
    "val, vec = 1/val[sort], vec[:,sort]"
   ]
  },
  {
   "cell_type": "code",
   "execution_count": null,
   "metadata": {},
   "outputs": [],
   "source": [
    "color_map = 'jet'\n",
    "\n",
    "L = 7\n",
    "plotter = vtki.Plotter(shape = (L,L))\n",
    "for l in range(L):\n",
    "    eig = vec[:,l**2]\n",
    "    plotter.subplot(l,l)\n",
    "    polydata = PolyData(iso_sphere.vertices, np.c_[[[3]]*len(iso_sphere.triangles),iso_sphere.triangles])\n",
    "    plotter.add_text('l: {},m: {},val : {:.2f}'.format(l,0, val[l**2]), font_size=10)\n",
    "    plotter.add_mesh(polydata, scalars = eig, cmap = color_map)\n",
    "\n",
    "    for m in range(1,l+1):\n",
    "        ind = m+(l)**2\n",
    "        eig = vec[:,ind]\n",
    "        plotter.subplot(l,l-m)\n",
    "        polydata = PolyData(iso_sphere.vertices, np.c_[[[3]]*len(iso_sphere.triangles),iso_sphere.triangles])\n",
    "        plotter.add_text('l: {},m: {},val : {:.2f}'.format(l,m, val[ind]), font_size=10)\n",
    "        plotter.add_mesh(polydata, scalars = eig, cmap = color_map)\n",
    "        \n",
    "        ind = m+(l)**2+l\n",
    "        eig = vec[:,ind]\n",
    "        plotter.subplot(l-m,l)\n",
    "        polydata = PolyData(iso_sphere.vertices, np.c_[[[3]]*len(iso_sphere.triangles),iso_sphere.triangles])\n",
    "        plotter.add_text('l: {},m: {},val : {:.2f}'.format(l,m, val[ind]), font_size=10)\n",
    "        plotter.add_mesh(polydata, scalars = eig, cmap = color_map)\n",
    "\n",
    "\n",
    "\n",
    "plotter.show()"
   ]
  },
  {
   "cell_type": "markdown",
   "metadata": {},
   "source": [
    "Many eigenfunctions we can match with ones from the UV-triangulation. But they are definitely different. Triangulations do seem to matter quite a bit.\n",
    "\n",
    "The triangulations are both approximations of the sphere, but they are different approximations. The uv-sphere has a larger symmetry group than the iso-sphere, and symmetries are important for the harmonic functions, \n",
    "\n",
    "Furthermore the harmonic functions are assumed to be decomposable as $f(\\phi, \\theta) = f_1(\\phi)f_2{\\theta}$, the uv-sphere uses the same decomposition, that may be a reason why the uv-sphere is more similar to the exact case.\n",
    "\n",
    "Finally, the eigenvalues of the iso-sphere are closer to the exact eigenvalues. "
   ]
  },
  {
   "cell_type": "code",
   "execution_count": null,
   "metadata": {},
   "outputs": [],
   "source": []
  }
 ],
 "metadata": {
  "kernelspec": {
   "display_name": "thesis",
   "language": "python",
   "name": "thesis"
  },
  "language_info": {
   "codemirror_mode": {
    "name": "ipython",
    "version": 3
   },
   "file_extension": ".py",
   "mimetype": "text/x-python",
   "name": "python",
   "nbconvert_exporter": "python",
   "pygments_lexer": "ipython3",
   "version": "3.7.2"
  }
 },
 "nbformat": 4,
 "nbformat_minor": 2
}
